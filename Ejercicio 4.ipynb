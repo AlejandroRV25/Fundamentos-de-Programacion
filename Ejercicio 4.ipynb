{
 "cells": [
  {
   "cell_type": "code",
   "execution_count": 33,
   "metadata": {},
   "outputs": [
    {
     "name": "stdout",
     "output_type": "stream",
     "text": [
      "Ingrese la nota del primer bimestre: 5\n",
      "Ingrese la nota del segundo bimestre: 4\n",
      "Necesita una nota de: 1.5\n",
      "Aprobo\n"
     ]
    }
   ],
   "source": [
    "n1= int(input(\"Ingrese la nota del primer bimestre: \"))\n",
    "n2= int(input(\"Ingrese la nota del segundo bimestre: \"))\n",
    "nn= (10.5 - ((n1 + n2)* 0.3)/0.3)\n",
    "print(\"Necesita una nota de: \"+ str(nn))\n",
    "if nn>=5.1:\n",
    "    print(\"No aprobo\")\n",
    "else:\n",
    "    print(\"Aprobo\")"
   ]
  },
  {
   "cell_type": "code",
   "execution_count": null,
   "metadata": {},
   "outputs": [],
   "source": []
  }
 ],
 "metadata": {
  "kernelspec": {
   "display_name": "Python 3",
   "language": "python",
   "name": "python3"
  },
  "language_info": {
   "codemirror_mode": {
    "name": "ipython",
    "version": 3
   },
   "file_extension": ".py",
   "mimetype": "text/x-python",
   "name": "python",
   "nbconvert_exporter": "python",
   "pygments_lexer": "ipython3",
   "version": "3.8.5"
  }
 },
 "nbformat": 4,
 "nbformat_minor": 4
}
