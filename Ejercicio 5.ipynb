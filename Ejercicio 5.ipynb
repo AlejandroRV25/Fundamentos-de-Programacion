{
 "cells": [
  {
   "cell_type": "code",
   "execution_count": 3,
   "metadata": {},
   "outputs": [
    {
     "name": "stdout",
     "output_type": "stream",
     "text": [
      "Ingrese la distancia en kilometros: 80\n",
      "Ingrese el tiempo en horas: 1.5\n",
      "La velocidad necesaria para recorrer 80 kilometros en 1.5 horas es de: 53.333333333333336K/h\n"
     ]
    }
   ],
   "source": [
    "d= int(input(\"Ingrese la distancia en kilometros: \"))\n",
    "t= float(input(\"Ingrese el tiempo en horas: \"))\n",
    "v= d/t\n",
    "print(\"La velocidad necesaria para recorrer \" + str(d) + \" kilometros en \" + str(t) + \" horas es de: \" + str(v) + \"K/h\")"
   ]
  },
  {
   "cell_type": "code",
   "execution_count": null,
   "metadata": {},
   "outputs": [],
   "source": []
  }
 ],
 "metadata": {
  "kernelspec": {
   "display_name": "Python 3",
   "language": "python",
   "name": "python3"
  },
  "language_info": {
   "codemirror_mode": {
    "name": "ipython",
    "version": 3
   },
   "file_extension": ".py",
   "mimetype": "text/x-python",
   "name": "python",
   "nbconvert_exporter": "python",
   "pygments_lexer": "ipython3",
   "version": "3.8.5"
  }
 },
 "nbformat": 4,
 "nbformat_minor": 4
}
