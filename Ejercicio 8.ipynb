{
 "cells": [
  {
   "cell_type": "code",
   "execution_count": 1,
   "metadata": {},
   "outputs": [
    {
     "name": "stdout",
     "output_type": "stream",
     "text": [
      "Ingrese el valor de la masa: 10\n",
      "Ingrese el coeficiente de rozamiento: 1.7\n",
      "La fuerza necesaria para mover la masa es de : 166.6Nw\n"
     ]
    }
   ],
   "source": [
    "m= float(input(\"Ingrese el valor de la masa: \"))\n",
    "r= float(input(\"Ingrese la fuerza de rozamiento: \"))\n",
    "f= m*9.8*r\n",
    "print(\"La fuerza necesaria para mover la masa es de : \" + str(f) + \"Nw\")"
   ]
  },
  {
   "cell_type": "code",
   "execution_count": null,
   "metadata": {},
   "outputs": [],
   "source": []
  }
 ],
 "metadata": {
  "kernelspec": {
   "display_name": "Python 3",
   "language": "python",
   "name": "python3"
  },
  "language_info": {
   "codemirror_mode": {
    "name": "ipython",
    "version": 3
   },
   "file_extension": ".py",
   "mimetype": "text/x-python",
   "name": "python",
   "nbconvert_exporter": "python",
   "pygments_lexer": "ipython3",
   "version": "3.8.5"
  }
 },
 "nbformat": 4,
 "nbformat_minor": 4
}
