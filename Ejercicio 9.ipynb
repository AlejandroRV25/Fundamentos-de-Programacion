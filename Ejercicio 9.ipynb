{
 "cells": [
  {
   "cell_type": "code",
   "execution_count": 2,
   "metadata": {},
   "outputs": [
    {
     "name": "stdout",
     "output_type": "stream",
     "text": [
      "Ingrese la temperatura en C°: 21\n",
      "La temperatura en °F es de 69.80000000000001 y en K es de: 294.15\n"
     ]
    }
   ],
   "source": [
    "c= float(input(\"Ingrese la temperatura en C°: \"))\n",
    "f= (c*1.8) + 32\n",
    "k= (c+273.15)\n",
    "print(\"La temperatura en °F es de \" + str(f) + \" y en K es de: \" + str(k))"
   ]
  },
  {
   "cell_type": "code",
   "execution_count": null,
   "metadata": {},
   "outputs": [],
   "source": []
  }
 ],
 "metadata": {
  "kernelspec": {
   "display_name": "Python 3",
   "language": "python",
   "name": "python3"
  },
  "language_info": {
   "codemirror_mode": {
    "name": "ipython",
    "version": 3
   },
   "file_extension": ".py",
   "mimetype": "text/x-python",
   "name": "python",
   "nbconvert_exporter": "python",
   "pygments_lexer": "ipython3",
   "version": "3.8.5"
  }
 },
 "nbformat": 4,
 "nbformat_minor": 4
}
