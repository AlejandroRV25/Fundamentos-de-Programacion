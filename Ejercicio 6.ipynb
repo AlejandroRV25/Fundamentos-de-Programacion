{
 "cells": [
  {
   "cell_type": "code",
   "execution_count": 8,
   "metadata": {},
   "outputs": [
    {
     "name": "stdout",
     "output_type": "stream",
     "text": [
      "Ingrese las horas que tomo: 4\n",
      "Ingrese numero de personas: 12\n",
      "Ingrese las horas: 3\n",
      "El numero de personas necesarias para este trabajo es de: 9.0 personas\n"
     ]
    }
   ],
   "source": [
    "k1= int(input(\"Ingrese las horas que tomo: \"))\n",
    "e1= int(input(\"Ingrese numero de personas: \"))\n",
    "k2= int(input(\"Ingrese las horas: \"))\n",
    "e2= (k2*e1) / k1\n",
    "print(\"El numero de personas necesarias para este trabajo es de: \" + str(e2) + \" personas\")"
   ]
  },
  {
   "cell_type": "code",
   "execution_count": null,
   "metadata": {},
   "outputs": [],
   "source": []
  }
 ],
 "metadata": {
  "kernelspec": {
   "display_name": "Python 3",
   "language": "python",
   "name": "python3"
  },
  "language_info": {
   "codemirror_mode": {
    "name": "ipython",
    "version": 3
   },
   "file_extension": ".py",
   "mimetype": "text/x-python",
   "name": "python",
   "nbconvert_exporter": "python",
   "pygments_lexer": "ipython3",
   "version": "3.8.5"
  }
 },
 "nbformat": 4,
 "nbformat_minor": 4
}
