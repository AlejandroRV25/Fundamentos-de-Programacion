{
 "cells": [
  {
   "cell_type": "code",
   "execution_count": 2,
   "metadata": {},
   "outputs": [
    {
     "name": "stdout",
     "output_type": "stream",
     "text": [
      "Ingrese el numero de horas trabajadas: 64\n",
      "Ingrese el valor por hora: 5.5\n",
      "Su sueldo es de: $256.96000000000004\n"
     ]
    }
   ],
   "source": [
    "h= float(input(\"Ingrese el numero de horas trabajadas: \"))\n",
    "v= float(input(\"Ingrese el valor por hora: \"))\n",
    "pt= h*v\n",
    "tf= pt - (pt*0.125) - (pt*0.16) - (pt*0.005)\n",
    "b= pt*0.02\n",
    "if tf<=300:\n",
    "    print(\"Su sueldo es de: $\" + (str(tf+b)))\n",
    "\n",
    "else:\n",
    "    print(\"Su sueldo es de: $\" + str(tf))"
   ]
  },
  {
   "cell_type": "code",
   "execution_count": null,
   "metadata": {},
   "outputs": [],
   "source": []
  }
 ],
 "metadata": {
  "kernelspec": {
   "display_name": "Python 3",
   "language": "python",
   "name": "python3"
  },
  "language_info": {
   "codemirror_mode": {
    "name": "ipython",
    "version": 3
   },
   "file_extension": ".py",
   "mimetype": "text/x-python",
   "name": "python",
   "nbconvert_exporter": "python",
   "pygments_lexer": "ipython3",
   "version": "3.8.5"
  }
 },
 "nbformat": 4,
 "nbformat_minor": 4
}
