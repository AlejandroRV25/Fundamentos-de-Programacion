{
 "cells": [
  {
   "cell_type": "code",
   "execution_count": 2,
   "metadata": {},
   "outputs": [
    {
     "ename": "IndentationError",
     "evalue": "expected an indented block (<ipython-input-2-a228c522825a>, line 13)",
     "output_type": "error",
     "traceback": [
      "\u001b[1;36m  File \u001b[1;32m\"<ipython-input-2-a228c522825a>\"\u001b[1;36m, line \u001b[1;32m13\u001b[0m\n\u001b[1;33m    print(n1)\u001b[0m\n\u001b[1;37m    ^\u001b[0m\n\u001b[1;31mIndentationError\u001b[0m\u001b[1;31m:\u001b[0m expected an indented block\n"
     ]
    }
   ],
   "source": [
    "n1=int(input(\"Ingrese primer valor:\"))\n",
    "n2=int(input(\"Ingrese segundo valor:\"))\n",
    "n3=int(input(\"Ingrese tercer valor:\"))\n",
    "while True:\n",
    "    print(\"\"\"\n",
    "    ¿Qué quieres hacer?\n",
    "    1) Mayor a Menor\n",
    "    2) Menor a Mayor\n",
    "    \"\"\")\n",
    "    opcion = int(input(\"Introduce un número: \") ) \n",
    "if opcion==1:\n",
    "    if n1>n2 and n1>n3:\n",
    "    print(n1)\n",
    "    if n2>n3:\n",
    "        print(n2)\n",
    "        print(n3)\n",
    "    else:\n",
    "        print(n3)\n",
    "        print(n2)\n",
    "    elif n2>n1 and n2>n3:\n",
    "    print(n2)\n",
    "    if n1>n3:\n",
    "        print(n1)\n",
    "        print(n3)\n",
    "    else:\n",
    "        print(n3)\n",
    "        print(n1)\n",
    "    elif n3>n1 and n3>n2:\n",
    "    print(n3)\n",
    "    if n1>n2:\n",
    "        print(n1)\n",
    "        print(n2)\n",
    "    else:\n",
    "        print(n2)\n",
    "        print(n1)\n",
    "if opcion == 2:        \n",
    "elif n1<n2 and n1<n3:\n",
    "    print(n1)\n",
    "    if n2<n3:\n",
    "        print(n2)\n",
    "        print(n3)\n",
    "    else:\n",
    "        print(n3)\n",
    "        print(n2)\n",
    "elif n2<n1 and n2<n3:\n",
    "    print(n2)\n",
    "    if n1<n3:\n",
    "        print(n1)\n",
    "        print(n3)\n",
    "    else:\n",
    "        print(n3)\n",
    "        print(n1)\n",
    "elif n3<n1 and n3<n2:\n",
    "    print(n3)\n",
    "    if n1<n2:\n",
    "        print(n1)\n",
    "        print(n2)\n",
    "    else:\n",
    "        print(n2)\n",
    "        print(n1)\n",
    "        "
   ]
  },
  {
   "cell_type": "code",
   "execution_count": null,
   "metadata": {},
   "outputs": [],
   "source": []
  }
 ],
 "metadata": {
  "kernelspec": {
   "display_name": "Python 3",
   "language": "python",
   "name": "python3"
  },
  "language_info": {
   "codemirror_mode": {
    "name": "ipython",
    "version": 3
   },
   "file_extension": ".py",
   "mimetype": "text/x-python",
   "name": "python",
   "nbconvert_exporter": "python",
   "pygments_lexer": "ipython3",
   "version": "3.8.5"
  }
 },
 "nbformat": 4,
 "nbformat_minor": 4
}
