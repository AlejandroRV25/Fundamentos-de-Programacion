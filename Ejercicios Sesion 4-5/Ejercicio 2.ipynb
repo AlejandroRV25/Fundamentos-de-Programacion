{
 "cells": [
  {
   "cell_type": "code",
   "execution_count": 16,
   "metadata": {},
   "outputs": [
    {
     "name": "stdout",
     "output_type": "stream",
     "text": [
      "Ingrese el valor del radio: 7\n",
      "El area del circulo es: 153.86\n"
     ]
    }
   ],
   "source": [
    "pi= 3.14\n",
    "radio= int(input(\"Ingrese el valor del radio: \"))\n",
    "areac= (radio**2) * pi\n",
    "print(\"El area del circulo es: \" + str(areac))"
   ]
  }
 ],
 "metadata": {
  "kernelspec": {
   "display_name": "Python 3",
   "language": "python",
   "name": "python3"
  },
  "language_info": {
   "codemirror_mode": {
    "name": "ipython",
    "version": 3
   },
   "file_extension": ".py",
   "mimetype": "text/x-python",
   "name": "python",
   "nbconvert_exporter": "python",
   "pygments_lexer": "ipython3",
   "version": "3.8.5"
  }
 },
 "nbformat": 4,
 "nbformat_minor": 4
}
