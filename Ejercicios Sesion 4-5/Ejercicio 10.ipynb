{
 "cells": [
  {
   "cell_type": "code",
   "execution_count": 6,
   "metadata": {},
   "outputs": [
    {
     "name": "stdout",
     "output_type": "stream",
     "text": [
      "Ingrese el valor del primer lado: 5\n",
      "Ingrese el valor del segundo lado: 8\n",
      "El area del rectangulo es de 40.0 y el perimetro es de 26.0\n"
     ]
    }
   ],
   "source": [
    "l1= float(input(\"Ingrese el valor del primer lado: \"))\n",
    "l2= float(input(\"Ingrese el valor del segundo lado: \"))\n",
    "a= l1 * l2\n",
    "p= ((l1 * 2) + (l2 * 2))\n",
    "print(\"El area del rectangulo es de \" + str(a) + \" y el perimetro es de \" + str(p))"
   ]
  },
  {
   "cell_type": "code",
   "execution_count": null,
   "metadata": {},
   "outputs": [],
   "source": []
  }
 ],
 "metadata": {
  "kernelspec": {
   "display_name": "Python 3",
   "language": "python",
   "name": "python3"
  },
  "language_info": {
   "codemirror_mode": {
    "name": "ipython",
    "version": 3
   },
   "file_extension": ".py",
   "mimetype": "text/x-python",
   "name": "python",
   "nbconvert_exporter": "python",
   "pygments_lexer": "ipython3",
   "version": "3.8.5"
  }
 },
 "nbformat": 4,
 "nbformat_minor": 4
}
