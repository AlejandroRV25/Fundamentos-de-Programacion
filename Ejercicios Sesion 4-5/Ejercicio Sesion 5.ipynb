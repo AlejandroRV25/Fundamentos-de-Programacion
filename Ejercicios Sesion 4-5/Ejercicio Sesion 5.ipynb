{
 "cells": [
  {
   "cell_type": "code",
   "execution_count": 16,
   "metadata": {
    "scrolled": true
   },
   "outputs": [
    {
     "name": "stdout",
     "output_type": "stream",
     "text": [
      "Ingrese primer valor:3\n",
      "Ingrese segundo valor:4\n",
      "Ingrese tercer valor:5\n",
      "El orden sera: 5 4 3\n"
     ]
    }
   ],
   "source": [
    "n1=int(input(\"Ingrese el primer valor:\"))\n",
    "n2=int(input(\"Ingrese el segundo valor:\"))\n",
    "n3=int(input(\"Ingrese el tercer valor:\"))\n",
    "if n1>n2 and n2>n3:\n",
    "    print(\"El orden sera: \"+ str(n1) ,str(n2)  ,str(n3) )\n",
    "elif n1>n3 and n3>n2:\n",
    "    print(\"El orden sera: \"+ str(n1) ,str(n3)  ,str(n2) )\n",
    "elif n2>n1 and n1>n3:\n",
    "    print(\"El orden sera: \"+ str(n2) ,str(n1)  ,str(n3) )\n",
    "elif n2>n3 and n3>n1:\n",
    "    print(\"El orden sera: \"+ str(n2) ,str(n3)  ,str(n1) )\n",
    "elif n3>n1 and n1>n2:\n",
    "    print(\"El orden sera: \"+ str(n3) ,str(n1)  ,str(n2) )\n",
    "elif n3>n2 and n2>n1:\n",
    "    print(\"El orden sera: \"+ str(n3) ,str(n2)  ,str(n1) )"
   ]
  },
  {
   "cell_type": "code",
   "execution_count": null,
   "metadata": {},
   "outputs": [],
   "source": []
  }
 ],
 "metadata": {
  "kernelspec": {
   "display_name": "Python 3",
   "language": "python",
   "name": "python3"
  },
  "language_info": {
   "codemirror_mode": {
    "name": "ipython",
    "version": 3
   },
   "file_extension": ".py",
   "mimetype": "text/x-python",
   "name": "python",
   "nbconvert_exporter": "python",
   "pygments_lexer": "ipython3",
   "version": "3.8.5"
  }
 },
 "nbformat": 4,
 "nbformat_minor": 4
}
