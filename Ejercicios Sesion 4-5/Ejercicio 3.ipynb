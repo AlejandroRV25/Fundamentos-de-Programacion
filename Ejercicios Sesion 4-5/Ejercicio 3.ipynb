{
 "cells": [
  {
   "cell_type": "code",
   "execution_count": 2,
   "metadata": {},
   "outputs": [
    {
     "name": "stdout",
     "output_type": "stream",
     "text": [
      "Indice de Masa Corporal\n",
      "Ingrese su peso en kilogramos: 65\n",
      "Ingrese su estatura en metros (1.??): 1.69\n",
      "Su indice de masa corporal es de: 22.758306781975424\n",
      "Peso normal\n"
     ]
    }
   ],
   "source": [
    "print(\"Indice de Masa Corporal\")\n",
    "peso= float(input(\"Ingrese su peso en kilogramos: \"))\n",
    "estatura= float(input(\"Ingrese su estatura en metros (1.??): \"))\n",
    "imc= peso / (estatura**2)\n",
    "print(\"Su indice de masa corporal es de: \" + str(imc))\n",
    "\n",
    "if imc<18.5:\n",
    "    print(\"Peso inferior al normal\")\n",
    "\n",
    "if imc>=18.5 and imc<=24.9:\n",
    "    print(\"Peso normal\")\n",
    "    \n",
    "if imc>=25 and imc<=29.9:\n",
    "    print(\"Peso superior al normal\")\n",
    "    \n",
    "if imc>30:\n",
    "    print(\"Obesidad\")"
   ]
  },
  {
   "cell_type": "code",
   "execution_count": null,
   "metadata": {},
   "outputs": [],
   "source": []
  }
 ],
 "metadata": {
  "kernelspec": {
   "display_name": "Python 3",
   "language": "python",
   "name": "python3"
  },
  "language_info": {
   "codemirror_mode": {
    "name": "ipython",
    "version": 3
   },
   "file_extension": ".py",
   "mimetype": "text/x-python",
   "name": "python",
   "nbconvert_exporter": "python",
   "pygments_lexer": "ipython3",
   "version": "3.8.5"
  }
 },
 "nbformat": 4,
 "nbformat_minor": 4
}
