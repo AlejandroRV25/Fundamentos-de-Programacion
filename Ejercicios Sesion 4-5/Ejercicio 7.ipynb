{
 "cells": [
  {
   "cell_type": "code",
   "execution_count": null,
   "metadata": {
    "scrolled": false
   },
   "outputs": [
    {
     "name": "stdout",
     "output_type": "stream",
     "text": [
      "Ingrese el primer valor: 5\n",
      "Ingrese el segundo valor: 2\n",
      "\n",
      "    ¿Qué quieres hacer?\n",
      "    1) Sumar los dos números\n",
      "    2) Restar los dos números\n",
      "    3) Multiplicar los dos números\n",
      "    4) Dividir los dos números\n",
      "    5) Potenciar los dos números\n",
      "    \n",
      "Introduce un número: 5\n",
      "El resultado de 5.0 ** 2.0 es 25.0\n",
      "\n",
      "    ¿Qué quieres hacer?\n",
      "    1) Sumar los dos números\n",
      "    2) Restar los dos números\n",
      "    3) Multiplicar los dos números\n",
      "    4) Dividir los dos números\n",
      "    5) Potenciar los dos números\n",
      "    \n"
     ]
    }
   ],
   "source": [
    "n1= float(input(\"Ingrese el primer valor: \"))\n",
    "n2= float(input(\"Ingrese el segundo valor: \"))\n",
    "while True:\n",
    "    print(\"\"\"\n",
    "    ¿Qué quieres hacer?\n",
    "    1) Sumar los dos números\n",
    "    2) Restar los dos números\n",
    "    3) Multiplicar los dos números\n",
    "    4) Dividir los dos números\n",
    "    5) Potenciar los dos números\n",
    "    \"\"\")\n",
    "    opcion = int(input(\"Introduce un número: \") )     \n",
    "\n",
    "    if opcion == 1:\n",
    "        print(\"El resultado de\",n1,\"+\",n2,\"es\",n1+n2)\n",
    "    elif opcion == 2:\n",
    "        print(\"El resultado de\",n1,\"-\",n2,\"es\",n1-n2)\n",
    "    elif opcion == 3:\n",
    "        print(\"El resultado de\",n1,\"*\",n2,\"es\",n1*n2)\n",
    "    elif opcion == 4:\n",
    "        print(\"El resultado de\",n1,\"/\",n2,\"es\",n1/n2)\n",
    "    elif opcion == 5:\n",
    "        print(\"El resultado de\",n1,\"**\",n2,\"es\",n1**n2)\n",
    "    else:\n",
    "        print(\"Seleccione una opcion correcta\")"
   ]
  },
  {
   "cell_type": "code",
   "execution_count": null,
   "metadata": {},
   "outputs": [],
   "source": []
  }
 ],
 "metadata": {
  "kernelspec": {
   "display_name": "Python 3",
   "language": "python",
   "name": "python3"
  },
  "language_info": {
   "codemirror_mode": {
    "name": "ipython",
    "version": 3
   },
   "file_extension": ".py",
   "mimetype": "text/x-python",
   "name": "python",
   "nbconvert_exporter": "python",
   "pygments_lexer": "ipython3",
   "version": "3.8.5"
  }
 },
 "nbformat": 4,
 "nbformat_minor": 4
}
